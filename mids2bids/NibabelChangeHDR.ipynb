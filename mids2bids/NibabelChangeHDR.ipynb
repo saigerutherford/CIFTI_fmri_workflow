{
 "cells": [
  {
   "cell_type": "code",
   "execution_count": 1,
   "metadata": {},
   "outputs": [],
   "source": [
    "import os\n",
    "import numpy as np\n",
    "import nibabel as nib\n",
    "from nibabel.testing import data_path\n",
    "import glob\n",
    "#import fnmatch"
   ]
  },
  {
   "cell_type": "code",
   "execution_count": 47,
   "metadata": {
    "collapsed": false,
    "jupyter": {
     "outputs_hidden": false
    }
   },
   "outputs": [],
   "source": [
    "dir = '/net/pepper/ivy_data/workflow/raw/tmp/'\n",
    "names = [name for name in os.listdir(dir)] \n",
    "fileNames = [dir + name for name in names]\n",
    "saveNames = [dir + 'test_' + name for name in names]"
   ]
  },
  {
   "cell_type": "code",
   "execution_count": 48,
   "metadata": {},
   "outputs": [
    {
     "data": {
      "text/plain": [
       "36"
      ]
     },
     "execution_count": 48,
     "metadata": {},
     "output_type": "execute_result"
    }
   ],
   "source": [
    "len(fileNames)"
   ]
  },
  {
   "cell_type": "code",
   "execution_count": 49,
   "metadata": {
    "collapsed": false,
    "jupyter": {
     "outputs_hidden": false
    }
   },
   "outputs": [],
   "source": [
    "for i in range(len(fileNames)):\n",
    "    fileName = fileNames[i]\n",
    "    saveName = saveNames[i]\n",
    "    img = nib.load(fileName)\n",
    "    #img_header = img.header\n",
    "    #temp_qform = img_header.get_qform()\n",
    "    #img_header.set_qform(temp_qform, code='scanner')\n",
    "    img.header.set_xyzt_units(xyz='mm', t='sec')\n",
    "    nib.save(img,saveName)"
   ]
  },
  {
   "cell_type": "code",
   "execution_count": 12,
   "metadata": {},
   "outputs": [],
   "source": [
    "fileName = '/net/pizza/IMPs/IncomingSubjects/tmp/sub-902_task-rest_run-02_bold.nii'\n",
    "saveName = '/net/pizza/IMPs/IncomingSubjects/tmp/test_sub-902_task-rest_run-02_bold.nii'\n",
    "img = nib.load(fileName)"
   ]
  },
  {
   "cell_type": "code",
   "execution_count": 14,
   "metadata": {},
   "outputs": [],
   "source": [
    "img_header = img.header\n",
    "temp_qform = img_header.get_qform()\n",
    "img_header.set_qform(temp_qform, code=1)\n",
    "img.header.set_xyzt_units(xyz='mm', t='sec')\n",
    "nib.save(img, saveName)"
   ]
  },
  {
   "cell_type": "code",
   "execution_count": null,
   "metadata": {},
   "outputs": [],
   "source": []
  }
 ],
 "metadata": {
  "kernelspec": {
   "display_name": "env3",
   "language": "python",
   "name": "env3"
  },
  "language_info": {
   "codemirror_mode": {
    "name": "ipython",
    "version": 3
   },
   "file_extension": ".py",
   "mimetype": "text/x-python",
   "name": "python",
   "nbconvert_exporter": "python",
   "pygments_lexer": "ipython3",
   "version": "3.6.2"
  }
 },
 "nbformat": 4,
 "nbformat_minor": 4
}
